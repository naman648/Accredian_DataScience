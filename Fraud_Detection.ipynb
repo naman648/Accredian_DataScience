{
 "cells": [
  {
   "cell_type": "markdown",
   "id": "6ad701ab-936b-4f58-8e64-65ab75b9d660",
   "metadata": {},
   "source": [
    "### Importing necessary libraries"
   ]
  },
  {
   "cell_type": "code",
   "execution_count": 1,
   "id": "1c727e38-ad3c-482c-af58-808baa4bd2c7",
   "metadata": {},
   "outputs": [],
   "source": [
    "import pandas as pd\n",
    "import numpy as np\n",
    "import matplotlib.pyplot as plt\n",
    "import seaborn as sns\n",
    "from sklearn.model_selection import train_test_split\n",
    "from sklearn.preprocessing import StandardScaler\n",
    "from sklearn.ensemble import RandomForestClassifier\n",
    "from sklearn.metrics import classification_report, confusion_matrix, roc_auc_score\n",
    "from imblearn.over_sampling import SMOTE\n",
    "from imblearn.combine import SMOTEENN"
   ]
  },
  {
   "cell_type": "markdown",
   "id": "7de2edab-42be-42f1-af6b-e9d331a7baba",
   "metadata": {},
   "source": [
    "### Load the Dataset"
   ]
  },
  {
   "cell_type": "code",
   "execution_count": 2,
   "id": "193a0d9e-3f6c-4115-95e6-17f254655ad6",
   "metadata": {},
   "outputs": [],
   "source": [
    "df = pd.read_csv('Fraud.csv')  "
   ]
  },
  {
   "cell_type": "markdown",
   "id": "94a2e1a4-f0f2-4887-9705-ba0b9502907e",
   "metadata": {},
   "source": [
    "### Performing EDA (Exploratory Data Analysis)"
   ]
  },
  {
   "cell_type": "code",
   "execution_count": 3,
   "id": "e92e6144-6b9c-4b8f-85fd-dadaf83bf144",
   "metadata": {},
   "outputs": [
    {
     "name": "stdout",
     "output_type": "stream",
     "text": [
      "<class 'pandas.core.frame.DataFrame'>\n",
      "RangeIndex: 6362620 entries, 0 to 6362619\n",
      "Data columns (total 11 columns):\n",
      " #   Column          Dtype  \n",
      "---  ------          -----  \n",
      " 0   step            int64  \n",
      " 1   type            object \n",
      " 2   amount          float64\n",
      " 3   nameOrig        object \n",
      " 4   oldbalanceOrg   float64\n",
      " 5   newbalanceOrig  float64\n",
      " 6   nameDest        object \n",
      " 7   oldbalanceDest  float64\n",
      " 8   newbalanceDest  float64\n",
      " 9   isFraud         int64  \n",
      " 10  isFlaggedFraud  int64  \n",
      "dtypes: float64(5), int64(3), object(3)\n",
      "memory usage: 534.0+ MB\n",
      "None\n",
      "               step        amount  oldbalanceOrg  newbalanceOrig  \\\n",
      "count  6.362620e+06  6.362620e+06   6.362620e+06    6.362620e+06   \n",
      "mean   2.433972e+02  1.798619e+05   8.338831e+05    8.551137e+05   \n",
      "std    1.423320e+02  6.038582e+05   2.888243e+06    2.924049e+06   \n",
      "min    1.000000e+00  0.000000e+00   0.000000e+00    0.000000e+00   \n",
      "25%    1.560000e+02  1.338957e+04   0.000000e+00    0.000000e+00   \n",
      "50%    2.390000e+02  7.487194e+04   1.420800e+04    0.000000e+00   \n",
      "75%    3.350000e+02  2.087215e+05   1.073152e+05    1.442584e+05   \n",
      "max    7.430000e+02  9.244552e+07   5.958504e+07    4.958504e+07   \n",
      "\n",
      "       oldbalanceDest  newbalanceDest       isFraud  isFlaggedFraud  \n",
      "count    6.362620e+06    6.362620e+06  6.362620e+06    6.362620e+06  \n",
      "mean     1.100702e+06    1.224996e+06  1.290820e-03    2.514687e-06  \n",
      "std      3.399180e+06    3.674129e+06  3.590480e-02    1.585775e-03  \n",
      "min      0.000000e+00    0.000000e+00  0.000000e+00    0.000000e+00  \n",
      "25%      0.000000e+00    0.000000e+00  0.000000e+00    0.000000e+00  \n",
      "50%      1.327057e+05    2.146614e+05  0.000000e+00    0.000000e+00  \n",
      "75%      9.430367e+05    1.111909e+06  0.000000e+00    0.000000e+00  \n",
      "max      3.560159e+08    3.561793e+08  1.000000e+00    1.000000e+00  \n",
      "isFraud\n",
      "0    6354407\n",
      "1       8213\n",
      "Name: count, dtype: int64\n"
     ]
    }
   ],
   "source": [
    "print(df.info())\n",
    "print(df.describe())\n",
    "print(df['isFraud'].value_counts()) \n",
    "df = df.drop(columns=['nameOrig', 'nameDest','type'])\n",
    "# Handling  missing values\n",
    "df.fillna(df.median(), inplace=True)  \n",
    "\n",
    "# Compute IQR only on non-fraud transactions\n",
    "Q1 = df[df['isFraud'] == 0].quantile(0.25)\n",
    "Q3 = df[df['isFraud'] == 0].quantile(0.75)\n",
    "IQR = Q3 - Q1\n",
    "\n",
    "# Apply IQR filtering only to non-fraud cases\n",
    "non_fraud_filtered = df[df['isFraud'] == 0][~((df[df['isFraud'] == 0] < (Q1 - 1.5 * IQR)) | (df[df['isFraud'] == 0] > (Q3 + 1.5 * IQR))).any(axis=1)]\n",
    "\n",
    "# Keep all fraud cases\n",
    "fraud_cases = df[df['isFraud'] == 1]\n",
    "\n",
    "# Combine them back together\n",
    "df = pd.concat([non_fraud_filtered, fraud_cases])\n",
    "\n",
    "# Reset index after filtering\n",
    "df = df.reset_index(drop=True)\n"
   ]
  },
  {
   "cell_type": "code",
   "execution_count": 4,
   "id": "67e0e1a6-f1eb-4ee2-843f-2362bd2a8c0b",
   "metadata": {},
   "outputs": [
    {
     "data": {
      "text/html": [
       "<div>\n",
       "<style scoped>\n",
       "    .dataframe tbody tr th:only-of-type {\n",
       "        vertical-align: middle;\n",
       "    }\n",
       "\n",
       "    .dataframe tbody tr th {\n",
       "        vertical-align: top;\n",
       "    }\n",
       "\n",
       "    .dataframe thead th {\n",
       "        text-align: right;\n",
       "    }\n",
       "</style>\n",
       "<table border=\"1\" class=\"dataframe\">\n",
       "  <thead>\n",
       "    <tr style=\"text-align: right;\">\n",
       "      <th></th>\n",
       "      <th>step</th>\n",
       "      <th>amount</th>\n",
       "      <th>oldbalanceOrg</th>\n",
       "      <th>newbalanceOrig</th>\n",
       "      <th>oldbalanceDest</th>\n",
       "      <th>newbalanceDest</th>\n",
       "      <th>isFraud</th>\n",
       "      <th>isFlaggedFraud</th>\n",
       "    </tr>\n",
       "  </thead>\n",
       "  <tbody>\n",
       "    <tr>\n",
       "      <th>0</th>\n",
       "      <td>1</td>\n",
       "      <td>9839.64</td>\n",
       "      <td>170136.0</td>\n",
       "      <td>160296.36</td>\n",
       "      <td>0.0</td>\n",
       "      <td>0.0</td>\n",
       "      <td>0</td>\n",
       "      <td>0</td>\n",
       "    </tr>\n",
       "    <tr>\n",
       "      <th>1</th>\n",
       "      <td>1</td>\n",
       "      <td>1864.28</td>\n",
       "      <td>21249.0</td>\n",
       "      <td>19384.72</td>\n",
       "      <td>0.0</td>\n",
       "      <td>0.0</td>\n",
       "      <td>0</td>\n",
       "      <td>0</td>\n",
       "    </tr>\n",
       "    <tr>\n",
       "      <th>2</th>\n",
       "      <td>1</td>\n",
       "      <td>11668.14</td>\n",
       "      <td>41554.0</td>\n",
       "      <td>29885.86</td>\n",
       "      <td>0.0</td>\n",
       "      <td>0.0</td>\n",
       "      <td>0</td>\n",
       "      <td>0</td>\n",
       "    </tr>\n",
       "    <tr>\n",
       "      <th>3</th>\n",
       "      <td>1</td>\n",
       "      <td>7817.71</td>\n",
       "      <td>53860.0</td>\n",
       "      <td>46042.29</td>\n",
       "      <td>0.0</td>\n",
       "      <td>0.0</td>\n",
       "      <td>0</td>\n",
       "      <td>0</td>\n",
       "    </tr>\n",
       "    <tr>\n",
       "      <th>4</th>\n",
       "      <td>1</td>\n",
       "      <td>7107.77</td>\n",
       "      <td>183195.0</td>\n",
       "      <td>176087.23</td>\n",
       "      <td>0.0</td>\n",
       "      <td>0.0</td>\n",
       "      <td>0</td>\n",
       "      <td>0</td>\n",
       "    </tr>\n",
       "  </tbody>\n",
       "</table>\n",
       "</div>"
      ],
      "text/plain": [
       "   step    amount  oldbalanceOrg  newbalanceOrig  oldbalanceDest  \\\n",
       "0     1   9839.64       170136.0       160296.36             0.0   \n",
       "1     1   1864.28        21249.0        19384.72             0.0   \n",
       "2     1  11668.14        41554.0        29885.86             0.0   \n",
       "3     1   7817.71        53860.0        46042.29             0.0   \n",
       "4     1   7107.77       183195.0       176087.23             0.0   \n",
       "\n",
       "   newbalanceDest  isFraud  isFlaggedFraud  \n",
       "0             0.0        0               0  \n",
       "1             0.0        0               0  \n",
       "2             0.0        0               0  \n",
       "3             0.0        0               0  \n",
       "4             0.0        0               0  "
      ]
     },
     "execution_count": 4,
     "metadata": {},
     "output_type": "execute_result"
    }
   ],
   "source": [
    "df.head()"
   ]
  },
  {
   "cell_type": "markdown",
   "id": "1ea313fe-7ddb-4b22-b34f-b60fc8693080",
   "metadata": {},
   "source": [
    "### Performing Feature Engineering"
   ]
  },
  {
   "cell_type": "code",
   "execution_count": 5,
   "id": "ac27403d-103b-419b-a09d-a2d1a6b21b4f",
   "metadata": {},
   "outputs": [],
   "source": [
    "df['transaction_amount'] = df['oldbalanceOrg'] - df['newbalanceOrig']\n",
    "df['transaction_amount'] = df['transaction_amount'].clip(lower=0)  \n",
    "df['log_transaction_amount'] = np.log1p(df['transaction_amount'])  \n",
    "df['balance_change_ratio'] = df['transaction_amount'] / (df['oldbalanceOrg'] + 1)\n",
    "df['is_destination_new'] = ((df['oldbalanceDest'] == 0) & (df['newbalanceDest'] == 0)).astype(int)\n",
    "df['dest_balance_change'] = df['newbalanceDest'] - df['oldbalanceDest']\n",
    "df['is_origin_empty'] = (df['oldbalanceOrg'] == 0).astype(int)\n",
    "df['origin_balance_change'] = df['newbalanceOrig'] - df['oldbalanceOrg']"
   ]
  },
  {
   "cell_type": "code",
   "execution_count": 6,
   "id": "ba3bf442-bca9-4322-a5c7-ff22918cb98d",
   "metadata": {},
   "outputs": [
    {
     "data": {
      "text/html": [
       "<div>\n",
       "<style scoped>\n",
       "    .dataframe tbody tr th:only-of-type {\n",
       "        vertical-align: middle;\n",
       "    }\n",
       "\n",
       "    .dataframe tbody tr th {\n",
       "        vertical-align: top;\n",
       "    }\n",
       "\n",
       "    .dataframe thead th {\n",
       "        text-align: right;\n",
       "    }\n",
       "</style>\n",
       "<table border=\"1\" class=\"dataframe\">\n",
       "  <thead>\n",
       "    <tr style=\"text-align: right;\">\n",
       "      <th></th>\n",
       "      <th>step</th>\n",
       "      <th>amount</th>\n",
       "      <th>oldbalanceOrg</th>\n",
       "      <th>newbalanceOrig</th>\n",
       "      <th>oldbalanceDest</th>\n",
       "      <th>newbalanceDest</th>\n",
       "      <th>isFraud</th>\n",
       "      <th>isFlaggedFraud</th>\n",
       "      <th>transaction_amount</th>\n",
       "      <th>log_transaction_amount</th>\n",
       "      <th>balance_change_ratio</th>\n",
       "      <th>is_destination_new</th>\n",
       "      <th>dest_balance_change</th>\n",
       "      <th>is_origin_empty</th>\n",
       "      <th>origin_balance_change</th>\n",
       "    </tr>\n",
       "  </thead>\n",
       "  <tbody>\n",
       "    <tr>\n",
       "      <th>0</th>\n",
       "      <td>1</td>\n",
       "      <td>9839.64</td>\n",
       "      <td>170136.0</td>\n",
       "      <td>160296.36</td>\n",
       "      <td>0.0</td>\n",
       "      <td>0.0</td>\n",
       "      <td>0</td>\n",
       "      <td>0</td>\n",
       "      <td>9839.64</td>\n",
       "      <td>9.194276</td>\n",
       "      <td>0.057834</td>\n",
       "      <td>1</td>\n",
       "      <td>0.0</td>\n",
       "      <td>0</td>\n",
       "      <td>-9839.64</td>\n",
       "    </tr>\n",
       "    <tr>\n",
       "      <th>1</th>\n",
       "      <td>1</td>\n",
       "      <td>1864.28</td>\n",
       "      <td>21249.0</td>\n",
       "      <td>19384.72</td>\n",
       "      <td>0.0</td>\n",
       "      <td>0.0</td>\n",
       "      <td>0</td>\n",
       "      <td>0</td>\n",
       "      <td>1864.28</td>\n",
       "      <td>7.531166</td>\n",
       "      <td>0.087731</td>\n",
       "      <td>1</td>\n",
       "      <td>0.0</td>\n",
       "      <td>0</td>\n",
       "      <td>-1864.28</td>\n",
       "    </tr>\n",
       "    <tr>\n",
       "      <th>2</th>\n",
       "      <td>1</td>\n",
       "      <td>11668.14</td>\n",
       "      <td>41554.0</td>\n",
       "      <td>29885.86</td>\n",
       "      <td>0.0</td>\n",
       "      <td>0.0</td>\n",
       "      <td>0</td>\n",
       "      <td>0</td>\n",
       "      <td>11668.14</td>\n",
       "      <td>9.364703</td>\n",
       "      <td>0.280788</td>\n",
       "      <td>1</td>\n",
       "      <td>0.0</td>\n",
       "      <td>0</td>\n",
       "      <td>-11668.14</td>\n",
       "    </tr>\n",
       "    <tr>\n",
       "      <th>3</th>\n",
       "      <td>1</td>\n",
       "      <td>7817.71</td>\n",
       "      <td>53860.0</td>\n",
       "      <td>46042.29</td>\n",
       "      <td>0.0</td>\n",
       "      <td>0.0</td>\n",
       "      <td>0</td>\n",
       "      <td>0</td>\n",
       "      <td>7817.71</td>\n",
       "      <td>8.964275</td>\n",
       "      <td>0.145146</td>\n",
       "      <td>1</td>\n",
       "      <td>0.0</td>\n",
       "      <td>0</td>\n",
       "      <td>-7817.71</td>\n",
       "    </tr>\n",
       "    <tr>\n",
       "      <th>4</th>\n",
       "      <td>1</td>\n",
       "      <td>7107.77</td>\n",
       "      <td>183195.0</td>\n",
       "      <td>176087.23</td>\n",
       "      <td>0.0</td>\n",
       "      <td>0.0</td>\n",
       "      <td>0</td>\n",
       "      <td>0</td>\n",
       "      <td>7107.77</td>\n",
       "      <td>8.869085</td>\n",
       "      <td>0.038799</td>\n",
       "      <td>1</td>\n",
       "      <td>0.0</td>\n",
       "      <td>0</td>\n",
       "      <td>-7107.77</td>\n",
       "    </tr>\n",
       "  </tbody>\n",
       "</table>\n",
       "</div>"
      ],
      "text/plain": [
       "   step    amount  oldbalanceOrg  newbalanceOrig  oldbalanceDest  \\\n",
       "0     1   9839.64       170136.0       160296.36             0.0   \n",
       "1     1   1864.28        21249.0        19384.72             0.0   \n",
       "2     1  11668.14        41554.0        29885.86             0.0   \n",
       "3     1   7817.71        53860.0        46042.29             0.0   \n",
       "4     1   7107.77       183195.0       176087.23             0.0   \n",
       "\n",
       "   newbalanceDest  isFraud  isFlaggedFraud  transaction_amount  \\\n",
       "0             0.0        0               0             9839.64   \n",
       "1             0.0        0               0             1864.28   \n",
       "2             0.0        0               0            11668.14   \n",
       "3             0.0        0               0             7817.71   \n",
       "4             0.0        0               0             7107.77   \n",
       "\n",
       "   log_transaction_amount  balance_change_ratio  is_destination_new  \\\n",
       "0                9.194276              0.057834                   1   \n",
       "1                7.531166              0.087731                   1   \n",
       "2                9.364703              0.280788                   1   \n",
       "3                8.964275              0.145146                   1   \n",
       "4                8.869085              0.038799                   1   \n",
       "\n",
       "   dest_balance_change  is_origin_empty  origin_balance_change  \n",
       "0                  0.0                0               -9839.64  \n",
       "1                  0.0                0               -1864.28  \n",
       "2                  0.0                0              -11668.14  \n",
       "3                  0.0                0               -7817.71  \n",
       "4                  0.0                0               -7107.77  "
      ]
     },
     "execution_count": 6,
     "metadata": {},
     "output_type": "execute_result"
    }
   ],
   "source": [
    "df.head()"
   ]
  },
  {
   "cell_type": "code",
   "execution_count": 7,
   "id": "98870760-ba34-4cd6-a131-ca8f1c8f30bf",
   "metadata": {},
   "outputs": [
    {
     "name": "stderr",
     "output_type": "stream",
     "text": [
      "C:\\Users\\91626\\AppData\\Roaming\\Python\\Python311\\site-packages\\statsmodels\\stats\\outliers_influence.py:197: RuntimeWarning: divide by zero encountered in scalar divide\n",
      "  vif = 1. / (1. - r_squared_i)\n"
     ]
    },
    {
     "name": "stdout",
     "output_type": "stream",
     "text": [
      "                   Feature           VIF\n",
      "0                     step  3.823407e+00\n",
      "1                   amount  9.490302e+00\n",
      "2            oldbalanceOrg  7.370850e+07\n",
      "3           newbalanceOrig  3.199700e+09\n",
      "4           oldbalanceDest           inf\n",
      "5           newbalanceDest           inf\n",
      "6                  isFraud  1.362792e+00\n",
      "7           isFlaggedFraud  1.049718e+00\n",
      "8       transaction_amount  2.620349e+01\n",
      "9   log_transaction_amount  7.329943e+00\n",
      "10    balance_change_ratio  4.854259e+00\n",
      "11      is_destination_new  3.170059e+00\n",
      "12     dest_balance_change           inf\n",
      "13         is_origin_empty  3.630650e+00\n",
      "14   origin_balance_change  1.115802e+10\n"
     ]
    }
   ],
   "source": [
    "# Checking Multicollinearity using VIF\n",
    "import statsmodels\n",
    "from statsmodels.stats.outliers_influence import variance_inflation_factor\n",
    "X_num = df.select_dtypes(include=[np.number])  \n",
    "vif_data = pd.DataFrame()\n",
    "vif_data[\"Feature\"] = X_num.columns\n",
    "vif_data[\"VIF\"] = [variance_inflation_factor(X_num.values, i) for i in range(X_num.shape[1])]\n",
    "print(vif_data)"
   ]
  },
  {
   "cell_type": "code",
   "execution_count": 8,
   "id": "a2c95c32-25ce-49a2-a2a9-6935230e1b12",
   "metadata": {},
   "outputs": [
    {
     "name": "stdout",
     "output_type": "stream",
     "text": [
      "isFraud\n",
      "0    4319031\n",
      "1       8213\n",
      "Name: count, dtype: int64\n"
     ]
    }
   ],
   "source": [
    "print(df['isFraud'].value_counts())  # Should show both 0 and 1"
   ]
  },
  {
   "cell_type": "markdown",
   "id": "4d125e15-c93a-420e-b513-e17e196a7cea",
   "metadata": {},
   "source": [
    "### Splitting the Data"
   ]
  },
  {
   "cell_type": "markdown",
   "id": "d1ef1d35-fef4-4ae6-9d43-70d56fff8e3a",
   "metadata": {},
   "source": [
    "#### Select Features and Target"
   ]
  },
  {
   "cell_type": "code",
   "execution_count": 9,
   "id": "76c236b4-8331-44ee-a50f-1056dc4754ef",
   "metadata": {},
   "outputs": [],
   "source": [
    "X = df.drop(columns=['isFraud'])\n",
    "y = df['isFraud']"
   ]
  },
  {
   "cell_type": "code",
   "execution_count": 10,
   "id": "93b8ad1d-b760-4931-bd47-6a5c5682491e",
   "metadata": {},
   "outputs": [
    {
     "name": "stdout",
     "output_type": "stream",
     "text": [
      "Number of fraud cases: 8213\n",
      "Number of non-fraud cases: 4319031\n"
     ]
    }
   ],
   "source": [
    "print(\"Number of fraud cases:\", df[df['isFraud'] == 1].shape[0])\n",
    "print(\"Number of non-fraud cases:\", df[df['isFraud'] == 0].shape[0])\n"
   ]
  },
  {
   "cell_type": "markdown",
   "id": "1ac3168f-dab3-4c47-b742-9145f6d600b4",
   "metadata": {},
   "source": [
    "#### Splitting into Train and Test sets"
   ]
  },
  {
   "cell_type": "code",
   "execution_count": 11,
   "id": "13e3a9c0-1082-4b5d-8f70-b6b0b29648f8",
   "metadata": {},
   "outputs": [],
   "source": [
    "X_train, X_test, y_train, y_test = train_test_split(X, y, test_size=0.1, random_state=42)"
   ]
  },
  {
   "cell_type": "markdown",
   "id": "0f5c1e5b-c51d-4f7f-88c7-ae5b92b841d2",
   "metadata": {},
   "source": [
    "#### Applying SMOTEENN"
   ]
  },
  {
   "cell_type": "code",
   "execution_count": 12,
   "id": "c271e7f2-b282-4428-b0bb-3e5725931140",
   "metadata": {},
   "outputs": [],
   "source": [
    "smote_enn = SMOTEENN(sampling_strategy=0.1, random_state=42)\n",
    "X_resampled, y_resampled = smote_enn.fit_resample(X_train, y_train)"
   ]
  },
  {
   "cell_type": "markdown",
   "id": "d80272fa-55a7-482e-af57-e5784accc8cf",
   "metadata": {},
   "source": [
    "### Training the model"
   ]
  },
  {
   "cell_type": "code",
   "execution_count": 13,
   "id": "25d49de3-f4c6-4c4c-a37e-443ece26e43d",
   "metadata": {},
   "outputs": [
    {
     "name": "stdout",
     "output_type": "stream",
     "text": [
      "Best Parameters: {'n_estimators': 50, 'min_samples_split': 5, 'min_samples_leaf': 2, 'max_depth': None, 'bootstrap': True}\n"
     ]
    }
   ],
   "source": [
    "from sklearn.model_selection import RandomizedSearchCV\n",
    "\n",
    "param_grid = {\n",
    "    'n_estimators': [50, 100],  # Reduce the number of trees\n",
    "    'max_depth': [10, 20, None],  \n",
    "    'min_samples_split': [5, 10],  # Increase min_samples_split to reduce overfitting\n",
    "    'min_samples_leaf': [2, 4],  \n",
    "    'bootstrap': [True]\n",
    "}\n",
    "\n",
    "rf = RandomForestClassifier(random_state=42)\n",
    "rf_search = RandomizedSearchCV(rf, param_grid, cv=2, n_iter=5, scoring='f1', n_jobs=-1, random_state=42)\n",
    "rf_search.fit(X_resampled, y_resampled)\n",
    "\n",
    "best_rf = rf_search.best_estimator_\n",
    "print(f\"Best Parameters: {rf_search.best_params_}\")\n"
   ]
  },
  {
   "cell_type": "code",
   "execution_count": 15,
   "id": "c2cfd988-9357-4079-a4d3-f1d734a60e0e",
   "metadata": {},
   "outputs": [
    {
     "name": "stdout",
     "output_type": "stream",
     "text": [
      "Adjusted Precision: 0.5986\n",
      "Adjusted Recall: 0.9781\n",
      "Adjusted F1 Score: 0.7427\n"
     ]
    }
   ],
   "source": [
    "from sklearn.metrics import precision_score, recall_score, f1_score\n",
    "\n",
    "y_pred_probs = best_rf.predict_proba(X_test)[:, 1]  # Getting fraud probabilities\n",
    "\n",
    "y_pred_adjusted = (y_pred_probs > 0.3).astype(int)\n",
    "\n",
    "# Recalculating metrics\n",
    "precision_adj = precision_score(y_test, y_pred_adjusted)\n",
    "recall_adj = recall_score(y_test, y_pred_adjusted)\n",
    "f1_adj = f1_score(y_test, y_pred_adjusted)\n",
    "\n",
    "print(f\"Adjusted Precision: {precision_adj:.4f}\")\n",
    "print(f\"Adjusted Recall: {recall_adj:.4f}\")\n",
    "print(f\"Adjusted F1 Score: {f1_adj:.4f}\")"
   ]
  },
  {
   "cell_type": "markdown",
   "id": "25a9abff-e4d5-4b69-a572-e354360c7bf8",
   "metadata": {},
   "source": [
    "### These scores suggest that the model is very effective at detecting fraud cases (high recall of 0.9781). It's catching 97.81% of actual fraud cases."
   ]
  },
  {
   "cell_type": "markdown",
   "id": "5896a2e4-3459-4079-b8c5-b53f2382f511",
   "metadata": {},
   "source": [
    "# 🔎Q & 🅰️"
   ]
  },
  {
   "cell_type": "markdown",
   "id": "9f5f790a-005c-4e28-8762-45ac83a1616e",
   "metadata": {},
   "source": [
    "## 📍 Q.1. Process of Data Cleaning?"
   ]
  },
  {
   "cell_type": "markdown",
   "id": "2c3d1884-b62f-4eca-8042-75fe71d02200",
   "metadata": {
    "jp-MarkdownHeadingCollapsed": true
   },
   "source": [
    "### • For Missing Values – Used .fillna(df.median(), inplace=True) to replace missing values with the median.\n",
    "### • For Outlier treatment – Used the Interquartile Range (IQR) method to remove extreme outliers.\n",
    "### • For Multi-Collinearity Check – Used Variance Inflation Factor (VIF) to detect multicollinearity and Features with a VIF > 10 were considered for removal to avoid redundancy"
   ]
  },
  {
   "cell_type": "markdown",
   "id": "8b0939ac-47e2-4eb7-ad8d-db4da5122eaf",
   "metadata": {},
   "source": [
    "## 📍 Q.2. Elaborate the Model."
   ]
  },
  {
   "cell_type": "markdown",
   "id": "e2fec6c0-ba07-4461-abef-8ff4a54790b4",
   "metadata": {},
   "source": [
    "### The model is based on a Random Forest Classifier, which is an ensemble learning method that builds multiple decision trees and combines their outputs to improve accuracy.\n",
    "### • Workflow:\n",
    "### 1. Data Preprocessing – Handled missing values, outliers, and created new meaningful features.\n",
    "\n",
    "### 2. Feature Engineering – Derived features like balance_change_ratio, is_destination_new, etc.\n",
    "\n",
    "### 3.Resampling the Data – Used SMOTE to handle class imbalance.\n",
    "\n",
    "### 4. Hyperparameter Tuning – Used RandomizedSearchCV to optimize model parameters.\n",
    "\n",
    "### 5. Evaluation Metrics – Measured Precision, Recall, F1-score, and AUC-ROC.\n",
    "\n"
   ]
  },
  {
   "cell_type": "markdown",
   "id": "40f72357-871c-413c-bafe-340c3d19ba42",
   "metadata": {},
   "source": [
    "## 📍 Q.3. Which variables are selected for the Model?"
   ]
  },
  {
   "cell_type": "markdown",
   "id": "bf66a1fd-4119-48b9-ba8a-4f0010dbc5f4",
   "metadata": {},
   "source": [
    "### - Selected transaction-related features relevant to fraud detection.\n",
    "### - Removed highly correlated features to avoid redundancy.\n",
    "### - Dropped features with high collinearity.\n",
    "### - Kept only the most influential predictors."
   ]
  },
  {
   "cell_type": "markdown",
   "id": "d4e5b001-9756-43f6-8124-c91869bf214f",
   "metadata": {},
   "source": [
    "## 📍 Q.4. Performance of the Model using the Best Set of Tools."
   ]
  },
  {
   "cell_type": "markdown",
   "id": "d9471f65-68dd-42c7-9c50-17c08a263b09",
   "metadata": {},
   "source": [
    "### Metrics Used:\n",
    "\n",
    "### ➢ Precision: 0.5986\n",
    "\n",
    "### ➢ Recall: 0.9781\n",
    "\n",
    "### ➢ F1 Score: 0.7427"
   ]
  },
  {
   "cell_type": "markdown",
   "id": "a6899653-6c49-42ad-ad8e-e9a5fad6303a",
   "metadata": {},
   "source": [
    "## 📍 Q.5. What Are the Key Factors That Predict Fraudulent Customers?"
   ]
  },
  {
   "cell_type": "markdown",
   "id": "6b944cb2-e91e-41f6-8ef0-8a4186e2603e",
   "metadata": {},
   "source": [
    "### 1. Transaction Amount – Large transactions often indicate fraud.\n",
    "\n",
    "### 2. Balance Change Ratio – Fraudsters tend to deplete an account’s balance in a single transaction.\n",
    "\n",
    "### 3. Is Destination New? – Many fraudulent transactions are sent to newly created accounts.\n",
    "\n",
    "### 4. Origin Balance Change – A large change in the sender’s balance suggests fraudulent behavior."
   ]
  },
  {
   "cell_type": "markdown",
   "id": "d6ed3d18-5907-459d-a8bb-529d8aec4b58",
   "metadata": {},
   "source": [
    "## 📍 Q.6. Do These Factors Make Sense? If Yes, How? If Not, How Not?"
   ]
  },
  {
   "cell_type": "markdown",
   "id": "ac6f2bc5-3788-486f-9a59-1d3834ef1090",
   "metadata": {},
   "source": [
    "### Yes, these factors make sense because they align with common fraud patterns:\n",
    "\n",
    "### ➢ Fraudsters often make high-value transactions.\n",
    "\n",
    "### ➢ They may create new recipient accounts to receive stolen funds.\n",
    "\n",
    "### ➢ Sudden draining of an account is a red flag for fraud."
   ]
  },
  {
   "cell_type": "markdown",
   "id": "df592e7f-c35c-4e9f-b1d2-a6c6dd5affb2",
   "metadata": {},
   "source": [
    "## 📍 Q.7. What Kind of Prevention Should Be Adopted While the Company Updates Its Infrastructure?"
   ]
  },
  {
   "cell_type": "markdown",
   "id": "9a5dd05a-6dbc-4ca8-89c4-02a143fb2151",
   "metadata": {},
   "source": [
    "### 1. Multi-Factor Authentication (MFA) – Reduce unauthorized access.\n",
    "\n",
    "### 2. Transaction Limits & Alerts – Notify users for high-value or unusual transactions.\n",
    "\n",
    "### 3. Behavioral Analytics – Track user behavior for deviations from normal activity."
   ]
  },
  {
   "cell_type": "markdown",
   "id": "3768a8f2-ec45-4995-b444-1ccf2c9bc9bc",
   "metadata": {},
   "source": [
    "## 📍 Q.8. Assuming These Actions Have Been Implemented, How would They Work?"
   ]
  },
  {
   "cell_type": "markdown",
   "id": "88a3a600-f936-47f4-bd5c-dd0cb595f6bf",
   "metadata": {},
   "source": [
    "### Monitor Key Performance Indicators (KPIs):\n",
    "\n",
    "### 1. Reduction in Fraud Cases – Compare fraud cases before and after implementation.\n",
    "\n",
    "### 2. Customer Complaints – Monitor feedback related to fraud detection accuracy.\n"
   ]
  }
 ],
 "metadata": {
  "kernelspec": {
   "display_name": "Python 3 (ipykernel)",
   "language": "python",
   "name": "python3"
  },
  "language_info": {
   "codemirror_mode": {
    "name": "ipython",
    "version": 3
   },
   "file_extension": ".py",
   "mimetype": "text/x-python",
   "name": "python",
   "nbconvert_exporter": "python",
   "pygments_lexer": "ipython3",
   "version": "3.11.4"
  }
 },
 "nbformat": 4,
 "nbformat_minor": 5
}
